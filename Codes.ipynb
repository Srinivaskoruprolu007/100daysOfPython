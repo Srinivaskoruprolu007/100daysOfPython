{
  "cells": [
    {
      "cell_type": "markdown",
      "metadata": {
        "id": "view-in-github",
        "colab_type": "text"
      },
      "source": [
        "<a href=\"https://colab.research.google.com/github/Srinivaskoruprolu007/100daysOfPython/blob/master/Codes.ipynb\" target=\"_parent\"><img src=\"https://colab.research.google.com/assets/colab-badge.svg\" alt=\"Open In Colab\"/></a>"
      ]
    },
    {
      "cell_type": "markdown",
      "metadata": {
        "id": "ZutsLDm1zkQ-"
      },
      "source": [
        "# Arrays"
      ]
    },
    {
      "cell_type": "markdown",
      "metadata": {
        "id": "N4qFJDEX0a1O"
      },
      "source": [
        "## Largest Element in an Array"
      ]
    },
    {
      "cell_type": "code",
      "execution_count": 29,
      "metadata": {
        "id": "vQ0Xlu-A0fHV"
      },
      "outputs": [],
      "source": [
        "def largest(arr):\n",
        "    max = arr[0]\n",
        "    for i in range(0, len(arr)):\n",
        "        if max < arr[i]:\n",
        "            max = arr[i]\n",
        "    return max\n"
      ]
    },
    {
      "cell_type": "markdown",
      "metadata": {
        "id": "72IiANEl1C58"
      },
      "source": [
        "## Second Largest Element in an Array"
      ]
    },
    {
      "cell_type": "code",
      "execution_count": 30,
      "metadata": {
        "id": "YJyZxFiC1JG8"
      },
      "outputs": [],
      "source": [
        "def secondLargest(arr):\n",
        "    if len(arr)<2:\n",
        "        return -1\n",
        "    large = float('-inf')\n",
        "    secondLargest = float('-inf')\n",
        "    for n in arr:\n",
        "        if n > large:\n",
        "            secondLargest = large\n",
        "            large = n\n",
        "        elif n > secondLargest and n != large:\n",
        "            secondLargest = n\n",
        "    return secondLargest\n",
        "\n",
        "\n",
        "#  Do the second smallest here !!!\n",
        "\n",
        "\n",
        "\n",
        "\n"
      ]
    },
    {
      "cell_type": "markdown",
      "metadata": {
        "id": "gqcd9aNt2WxS"
      },
      "source": [
        "## Check if the Array is sorted"
      ]
    },
    {
      "cell_type": "code",
      "execution_count": 31,
      "metadata": {
        "id": "PjGdwjMZ2aWi"
      },
      "outputs": [],
      "source": [
        "def isSorted(arr):\n",
        "    for i in range(1, len(arr)):\n",
        "        if arr[i] < arr[i-1]:\n",
        "            return False\n",
        "    return True\n",
        "\n"
      ]
    },
    {
      "cell_type": "markdown",
      "metadata": {
        "id": "y_0iZRWB3Tlc"
      },
      "source": [
        "## Remove Duplicates from Sorted array"
      ]
    },
    {
      "cell_type": "code",
      "execution_count": 32,
      "metadata": {
        "id": "qMInF-SM3TNY"
      },
      "outputs": [],
      "source": [
        "# brute Force\n",
        "def remove_duplicates(arr):\n",
        "    # declare a hashSet\n",
        "    hashSet = set()\n",
        "    # run a for loop from starting to the end\n",
        "    for i in range(len(arr)):\n",
        "        # put every element of the array in the set\n",
        "        hashSet.add(arr[i])\n",
        "    # store the size of the set in a variable\n",
        "    k = len(hashSet)\n",
        "    # now put all elements of the set in the array from the starting of the aaray\n",
        "    j = 0\n",
        "    for x in hashSet:\n",
        "        arr[j] = x\n",
        "        j +=1\n",
        "    return k\n",
        "\n",
        "\n",
        "\n",
        "# optimal approach (Two Pointers)\n",
        "def remove_duplicates_two(arr):\n",
        "    # take a variable i as 0\n",
        "    i = 0\n",
        "    # use a for loop by using a variable j from 1 to length of the array\n",
        "    for j in range(1, len(arr)):\n",
        "        # if arr[i] != arr[j], increase i and update arr[i] = arr[j]\n",
        "        if arr[i] != arr[j]:\n",
        "            i +=1\n",
        "            arr[i] = arr[j]\n",
        "    return i+1\n",
        "\n"
      ]
    },
    {
      "cell_type": "markdown",
      "metadata": {
        "id": "cBHo-PBZ5z2Y"
      },
      "source": [
        "## Move Zeros to end"
      ]
    },
    {
      "cell_type": "code",
      "execution_count": 33,
      "metadata": {
        "id": "4hpEh_BF52mx"
      },
      "outputs": [],
      "source": [
        "# Brute Force approach\n",
        "def moveZeros(a):\n",
        "    n = len(arr)\n",
        "    # Temporary array\n",
        "    temp = []\n",
        "\n",
        "    # Copy non-zero elements from original to temp array\n",
        "    for i in range(n):\n",
        "        if arr[i] != 0:\n",
        "            temp.append(arr[i])\n",
        "\n",
        "    # Number of non-zero elements\n",
        "    nz = len(temp)\n",
        "\n",
        "    # Copy elements from temp to fill first nz fields of original array\n",
        "    for i in range(nz):\n",
        "        arr[i] = temp[i]\n",
        "\n",
        "    # Fill the rest of the cells with 0\n",
        "    for i in range(nz, n):\n",
        "        arr[i] = 0\n",
        "\n",
        "    return arr\n",
        "\n",
        "\n",
        "\n",
        "\n",
        "# Optimal solution\n",
        "def move_Zeros(arr):\n",
        "    n = len(a)\n",
        "    i = 0\n",
        "    for j in range(n):\n",
        "        if arr[j] != 0:\n",
        "            arr[i] = arr[j]\n",
        "            i += 1\n",
        "    for j in range(i, n):\n",
        "        arr[j] = 0\n",
        "    return arr"
      ]
    },
    {
      "cell_type": "markdown",
      "metadata": {
        "id": "mnbXHZLT7RqY"
      },
      "source": [
        "## Linear Search"
      ]
    },
    {
      "cell_type": "code",
      "execution_count": 34,
      "metadata": {
        "id": "5oW8t1iF5yRV"
      },
      "outputs": [],
      "source": [
        "def linear_search(arr, target):\n",
        "    n = len(arr)\n",
        "    for i in range(n):\n",
        "        if arr[i] == target:\n",
        "            return i\n",
        "    return -1\n"
      ]
    },
    {
      "cell_type": "markdown",
      "metadata": {
        "id": "PTs9x2Es3bBq"
      },
      "source": [
        "## Union of two sorted Array"
      ]
    },
    {
      "cell_type": "code",
      "execution_count": 35,
      "metadata": {
        "colab": {
          "base_uri": "https://localhost:8080/"
        },
        "id": "cIXMYG4Cw6q-",
        "outputId": "37b4db81-ca84-4d2b-fc7f-838d4dd22332"
      },
      "outputs": [
        {
          "output_type": "stream",
          "name": "stdout",
          "text": [
            "[2, 3, 4, 5, 6, 7, 8, 10]\n"
          ]
        }
      ],
      "source": [
        "def union(arr1, arr2):\n",
        "    # take two pointer for arr1, arr2\n",
        "    i, j = 0, 0\n",
        "    # take a list to store the union\n",
        "    union = []\n",
        "    # iterate over the lists\n",
        "    while i < len(arr1) and j < len(arr2):\n",
        "        if arr1[i] <= arr2[j]:\n",
        "            if len(union) == 0 or union[-1] != arr1[i]:\n",
        "                union.append(arr1[i])\n",
        "            i += 1\n",
        "        else:\n",
        "            if len(union) == 0 or union[-1] != arr2[j]:\n",
        "                union.append(arr2[j])\n",
        "            j += 1\n",
        "\n",
        "    # if elements in arr1 are left\n",
        "    while i < len(arr1):\n",
        "        if union[-1] != arr1[i]:\n",
        "            union.append(arr1[i])\n",
        "        i += 1\n",
        "\n",
        "    # if elements in arr2 are left\n",
        "    while j < len(arr2):\n",
        "        if union[-1] != arr2[j]:\n",
        "            union.append(arr2[j])\n",
        "        j += 1\n",
        "\n",
        "    return union\n",
        "\n",
        "\n",
        "arr1 = [4, 5, 6, 7, 7, 8, 10]\n",
        "arr2 = [2, 3, 3, 4, 5, 6]\n",
        "print(union(arr1, arr2))\n"
      ]
    },
    {
      "cell_type": "markdown",
      "metadata": {
        "id": "rnEWtU11cVWW"
      },
      "source": [
        "## Intersection of Sorted Array"
      ]
    },
    {
      "cell_type": "code",
      "execution_count": 36,
      "metadata": {
        "colab": {
          "base_uri": "https://localhost:8080/"
        },
        "id": "2GUguZ_1ccZz",
        "outputId": "905660a9-897c-4585-faea-a10b1cd575f8"
      },
      "outputs": [
        {
          "output_type": "execute_result",
          "data": {
            "text/plain": [
              "[1, 3, 5, 7, 9, 10]"
            ]
          },
          "metadata": {},
          "execution_count": 36
        }
      ],
      "source": [
        "def intersection(arr1, arr2):\n",
        "    i = j = 0\n",
        "    n = len(arr1)\n",
        "    m = len(arr2)\n",
        "    ans = []\n",
        "    while i < n and j < m:\n",
        "        if arr1[i] < arr2[j]:\n",
        "            i += 1\n",
        "        elif arr1[i] > arr2[j]:\n",
        "            j += 1\n",
        "        else:\n",
        "            ans.append(arr1[i])\n",
        "            i += 1\n",
        "            j += 1\n",
        "    return ans\n",
        "\n",
        "arr1 = [1, 3, 5, 7, 9, 10]\n",
        "arr2 = [1, 3, 5, 6, 7, 8, 9, 10]\n",
        "intersection(arr1, arr2)"
      ]
    },
    {
      "cell_type": "markdown",
      "metadata": {
        "id": "5adWKWjJ3j9c"
      },
      "source": [
        "## Rotate an array By one"
      ]
    },
    {
      "cell_type": "code",
      "execution_count": 37,
      "metadata": {
        "colab": {
          "base_uri": "https://localhost:8080/"
        },
        "id": "fWG0rdAq3jY7",
        "outputId": "351592ef-07e8-4a32-bc17-3fdab56958ae"
      },
      "outputs": [
        {
          "output_type": "execute_result",
          "data": {
            "text/plain": [
              "[4, 5, 2, 6, 1]"
            ]
          },
          "metadata": {},
          "execution_count": 37
        }
      ],
      "source": [
        "def rotate_by_one(arr):\n",
        "    # take the first element and store in a temp variable\n",
        "    temp = arr[0]\n",
        "    # iterate over the arr from 0 to 2nd last index\n",
        "    for i in range(len(arr)-1):\n",
        "        arr[i] = arr[i+1]\n",
        "    arr[-1] = temp\n",
        "    return arr\n",
        "\n",
        "arr = [1, 4, 5, 2, 6]\n",
        "rotate_by_one(arr)"
      ]
    },
    {
      "cell_type": "markdown",
      "metadata": {
        "id": "cQm_VmK76QeC"
      },
      "source": [
        "## Rotate Array by k places"
      ]
    },
    {
      "cell_type": "code",
      "execution_count": 38,
      "metadata": {
        "colab": {
          "base_uri": "https://localhost:8080/"
        },
        "id": "qNwYd9pl4L7v",
        "outputId": "90cba87f-d79c-4155-ed2d-1f87c5b52f38"
      },
      "outputs": [
        {
          "output_type": "execute_result",
          "data": {
            "text/plain": [
              "[1, 5, 6, 7, 2, 3, 4]"
            ]
          },
          "metadata": {},
          "execution_count": 38
        }
      ],
      "source": [
        "# Brute force algo\n",
        "def rotate_array_left_by_k(arr, k):\n",
        "    # first modulo the k with length of the array to aviod unnecessary roatations\n",
        "    n = len(arr)\n",
        "    k = k % n\n",
        "    # store the first k elements into temp array\n",
        "    temp = [0] * k\n",
        "    for i in range(k):\n",
        "        temp[i] = arr[i]\n",
        "    # now shift the elements to the left by k places\n",
        "    for i in range(k, n):\n",
        "        arr[i-k] = arr[i]\n",
        "\n",
        "    # now place the elements in temp into our original arr\n",
        "    for i in range(n-k, n):\n",
        "        arr[i] = temp[i-(n-k)]\n",
        "    return arr\n",
        "\n",
        "rotate_array_left_by_k([1, 2, 3, 4, 5, 6, 7], 3)\n",
        "\n",
        "\n",
        "# better approach\n",
        "'''\n",
        "1. Reverse the first left k elements\n",
        "2. Reverse the last n-k elements\n",
        "3. Reverse the whole post-reversal array\n",
        "'''\n",
        "def rotate_by_reversing(arr, k):\n",
        "    n = len(arr)\n",
        "    k = k % n\n",
        "\n",
        "    def reverse(arr, start, end):\n",
        "        while start < end:\n",
        "            arr[start], arr[end] = arr[end], arr[start]\n",
        "            start += 1\n",
        "            end -= 1\n",
        "\n",
        "    reverse(arr, 0, k-1)\n",
        "    reverse(arr, n-k, n-1)\n",
        "    reverse(arr, 0, n-1)\n",
        "\n",
        "    return arr\n",
        "\n",
        "rotate_by_reversing([1, 2, 3, 4, 5, 6, 7], 4)\n"
      ]
    },
    {
      "cell_type": "markdown",
      "metadata": {
        "id": "zQvg1k6b7nxI"
      },
      "source": [
        "## Finding Missing Number"
      ]
    },
    {
      "cell_type": "code",
      "execution_count": 39,
      "metadata": {
        "colab": {
          "base_uri": "https://localhost:8080/"
        },
        "id": "Nmt6lS3w7r25",
        "outputId": "ef767fd8-4c97-494b-e6f6-c95843e9b5c4"
      },
      "outputs": [
        {
          "output_type": "execute_result",
          "data": {
            "text/plain": [
              "0"
            ]
          },
          "metadata": {},
          "execution_count": 39
        }
      ],
      "source": [
        "# Brute Force\n",
        "def missing_number(nums):\n",
        "    nums.sort()\n",
        "    n = len(nums)\n",
        "    for i in range(n):\n",
        "        if nums[i] != i:\n",
        "            return i\n",
        "    return n\n",
        "\n",
        "# using maths\n",
        "def missing_number_maths(arr):\n",
        "    n = len(arr)\n",
        "    actual_sum = 0\n",
        "    for i in range(1, n+1):\n",
        "        actual_sum += i\n",
        "    sum = sum(arr)\n",
        "    return actual_sum - sum\n",
        "\n",
        "\n",
        "# using bit wise operations --> XOR\n",
        "'''\n",
        "a ^ a = 0\n",
        "a ^ 0 = a\n",
        "\n",
        "'''\n",
        "def missing_num_xor(arr):\n",
        "    # let xor everything from 0 to n+1\n",
        "    n = len(arr)\n",
        "    xor1 = 0\n",
        "    for i in range( n+1):\n",
        "        xor1 ^= i\n",
        "\n",
        "    # now xor xor1 with each element in the arr and we will got the missing num\n",
        "    for i in arr:\n",
        "        xor1 ^= i\n",
        "    return xor1\n",
        "\n",
        "missing_num_xor([1, 2, 3])\n",
        "\n"
      ]
    },
    {
      "cell_type": "markdown",
      "metadata": {
        "id": "aj46nDf09gGG"
      },
      "source": [
        "## Maximum Consecutive Ones"
      ]
    },
    {
      "cell_type": "code",
      "execution_count": 40,
      "metadata": {
        "id": "S-kx3sW39rvO"
      },
      "outputs": [],
      "source": [
        "def maximum_consecutive_ones(arr):\n",
        "    maxCount = 0\n",
        "    count = 0\n",
        "    for n in arr:\n",
        "        if n == 1:\n",
        "            count += 1\n",
        "            if count > maxCount:\n",
        "                maxCount = count\n",
        "        else:\n",
        "            count = 0\n",
        "    return maxCount\n"
      ]
    },
    {
      "cell_type": "markdown",
      "metadata": {
        "id": "HDfaehNUhkXy"
      },
      "source": [
        "## Single number"
      ]
    },
    {
      "cell_type": "code",
      "execution_count": 41,
      "metadata": {
        "colab": {
          "base_uri": "https://localhost:8080/"
        },
        "id": "kLlzfDgvho90",
        "outputId": "8202e302-7792-4b58-fbe1-3931fb90b4f8"
      },
      "outputs": [
        {
          "output_type": "execute_result",
          "data": {
            "text/plain": [
              "3"
            ]
          },
          "metadata": {},
          "execution_count": 41
        }
      ],
      "source": [
        "# find the number which appears once, and the other appears twice\n",
        "# using xor\n",
        "# Easy\n",
        "def single_number(nums):\n",
        "    ans = 0\n",
        "    for n in nums:\n",
        "        ans ^= n\n",
        "    return ans\n",
        "\n",
        "single_number([1, 2, 2, 1, 3, 4, 4, 5, 6, 6, 5])\n"
      ]
    },
    {
      "cell_type": "markdown",
      "metadata": {
        "id": "2z1Qflwcf0ue"
      },
      "source": [
        "## Longest Subarray with Sum K {Positives}"
      ]
    },
    {
      "cell_type": "code",
      "execution_count": 42,
      "metadata": {
        "id": "tEGolb8Tf67I"
      },
      "outputs": [],
      "source": [
        "# Sub array --> Contigous part of the Array\n",
        "# Brute force\n",
        "def longest_subarray_sum(arr, k):\n",
        "    n = len(arr)\n",
        "    length = 0\n",
        "    for i in range(n):\n",
        "        for j in range(i, n):\n",
        "            sum = 0\n",
        "            for k in range(i, j+1):\n",
        "                sum += arr[k]\n",
        "            if sum == k:\n",
        "                length = max(length, j-i+1)\n",
        "    return length\n",
        "\n",
        "# what is Tc and Sc ?\n",
        "\n",
        "\n",
        "# Actually we don't the inner 3rd loop\n",
        "def longest_subarray_sum_1(arr, k):\n",
        "    n = len(arr)\n",
        "    length = 0\n",
        "    for i in range(n):\n",
        "        sum = 0\n",
        "        for j in range(i, n):\n",
        "            sum += arr[j]\n",
        "\n",
        "            if sum == k:\n",
        "                length = max(length, j - i+1)\n",
        "    return length\n",
        "\n",
        "# what is Tc and Sc ?\n",
        "\n",
        "\n",
        "# Better approach\n",
        "def longest_subarray_hashing(arr, k):\n",
        "    preMap = {}\n",
        "    n = len(arr)\n",
        "    sum = 0\n",
        "    length = 0\n",
        "    for i in range(n):\n",
        "        sum += arr[i]\n",
        "        if sum == k:\n",
        "            length = max(length, i+1)\n",
        "        rem = sum - k\n",
        "        if rem  in preMap:\n",
        "            len = i - preMap[rem]\n",
        "            length = max(length, len)\n",
        "\n",
        "        preMap[sum] = i\n",
        "    return length\n",
        "\n",
        "# edge case : it's works only for positive numbers\n",
        "\n",
        "\n",
        "def getLongestSubarray(a, k):\n",
        "    n = len(a) # size of the array.\n",
        "\n",
        "    preSumMap = {}\n",
        "    Sum = 0\n",
        "    maxLen = 0\n",
        "    for i in range(n):\n",
        "        # calculate the prefix sum till index i:\n",
        "        Sum += a[i]\n",
        "\n",
        "        # if the sum = k, update the maxLen:\n",
        "        if Sum == k:\n",
        "            maxLen = max(maxLen, i + 1)\n",
        "\n",
        "        # calculate the sum of remaining part i.e. x-k:\n",
        "        rem = Sum - k\n",
        "\n",
        "        # Calculate the length and update maxLen:\n",
        "        if rem in preSumMap:\n",
        "            length = i - preSumMap[rem]\n",
        "            maxLen = max(maxLen, length)\n",
        "\n",
        "        # Finally, update the map checking the conditions:\n",
        "        if Sum not in preSumMap:\n",
        "            preSumMap[Sum] = i\n",
        "\n",
        "    return maxLen\n",
        "\n",
        "\n",
        "# two pointer approach (positives only)\n",
        "def largest_sub_array_sum(arr, k):\n",
        "    i = j = 0\n",
        "    sum = arr[0]\n",
        "    maxLen = 0\n",
        "    n = len(arr)\n",
        "    while j < n:\n",
        "        while i <= j and sum > k:\n",
        "            sum -= arr[i]\n",
        "            i += 1\n",
        "        j += 1\n",
        "        if j < n:\n",
        "            sum += arr[j]\n",
        "            j += 1\n",
        "        if sum == k:\n",
        "            maxLen = max(maxLen, j - i + 1)\n",
        "\n",
        "    return maxLen\n",
        "\n",
        "\n",
        "# sort the 0's 1's and 2's\n",
        "# [0, 1, 0, 0, 2, 0,2, 1, 2, 0] ---> [0, 0, 0, 0, 0, 1, 1, 2, 2, 2]\n",
        "\n",
        "\n"
      ]
    },
    {
      "cell_type": "markdown",
      "metadata": {
        "id": "qA-6rUx7XIJq"
      },
      "source": [
        "## Maximum SubArray Sum (Kadane's Algorithm)"
      ]
    },
    {
      "cell_type": "code",
      "execution_count": 43,
      "metadata": {
        "id": "DkkoSy2JXQIf"
      },
      "outputs": [],
      "source": [
        "def maxSubArraySum(arr):\n",
        "    maxSum = float('-inf')\n",
        "    currentSum = 0\n",
        "    for i in arr:\n",
        "        currentSum += i\n",
        "        if currentSum > maxSum:\n",
        "            maxSum = currentSum\n",
        "        if currentSum < 0:\n",
        "            currentSum = 0\n",
        "    return maxSum\n",
        "\n"
      ]
    },
    {
      "cell_type": "markdown",
      "metadata": {
        "id": "HfsAMSCcXtJN"
      },
      "source": [
        "## Best Time to Buy and Sell Stocks"
      ]
    },
    {
      "cell_type": "code",
      "execution_count": 44,
      "metadata": {
        "colab": {
          "base_uri": "https://localhost:8080/"
        },
        "id": "1TGcjErJXH3y",
        "outputId": "dc633f94-0364-4bcf-f03d-ad4ff8ce4a7d"
      },
      "outputs": [
        {
          "output_type": "execute_result",
          "data": {
            "text/plain": [
              "5"
            ]
          },
          "metadata": {},
          "execution_count": 44
        }
      ],
      "source": [
        "def bestTime(stocks):\n",
        "    minPrice = float('inf')\n",
        "    maxProfit = 0\n",
        "    for s in stocks:\n",
        "        if minPrice > s:\n",
        "            minPrice = s\n",
        "        if maxProfit < s - minPrice:\n",
        "            maxProfit = s - minPrice\n",
        "    return maxProfit\n",
        "\n",
        "stocks = [7, 1, 5, 3, 4, 6]\n",
        "bestTime(stocks)"
      ]
    },
    {
      "cell_type": "markdown",
      "metadata": {
        "id": "aZ7CJB6aeiWH"
      },
      "source": [
        "## Two Sum"
      ]
    },
    {
      "cell_type": "code",
      "execution_count": 45,
      "metadata": {
        "id": "6Fd7NYOqPg67"
      },
      "outputs": [],
      "source": [
        "# Brute force algo\n",
        "def two_sum(arr, target):\n",
        "    n = len(arr)\n",
        "    for i in range(n):\n",
        "        for j in range(i+1, n):\n",
        "            if arr[i] + arr[j] == target:\n",
        "                return [i, j]\n",
        "    return [-1, -1]\n",
        "\n",
        "\n",
        "\n",
        "# optimal approach using map\n",
        "def twoSum(arr, target):\n",
        "    hashMap = {}\n",
        "    n = len(arr)\n",
        "    for i in range(n):\n",
        "        comp = target - arr[i]\n",
        "        if comp in hashMap:\n",
        "            return [hashMap[comp], i]\n",
        "        hashMap[arr[i]] = i\n",
        "    return [-1, -1]\n",
        "\n",
        "# arr = [2, 3, 4, 5]\n",
        "# target = 8\n",
        "# print(twoSum(arr, target))\n",
        "# print(two_sum(arr, target))\n"
      ]
    },
    {
      "cell_type": "markdown",
      "metadata": {
        "id": "jgXuK3IDQZO6"
      },
      "source": [
        "## Sort 0's 1's 2's"
      ]
    },
    {
      "cell_type": "markdown",
      "metadata": {
        "id": "pSrG0YEouQEi"
      },
      "source": [
        "### Dutch National Flag Algo\n",
        "1. low, high, mid\n",
        "#### Rules\n",
        "1. zeros are between 0 index and low-1 index\n",
        "2. ones are between low index and mid-1 index\n",
        "3. twos are between high and n - 1 , n is length of the array\n",
        "\n",
        "\n"
      ]
    },
    {
      "cell_type": "code",
      "execution_count": 46,
      "metadata": {
        "colab": {
          "base_uri": "https://localhost:8080/"
        },
        "id": "iDuQRUjoRR7S",
        "outputId": "1d32ae35-53bf-4324-bbc9-e9ea7aee6855"
      },
      "outputs": [
        {
          "output_type": "stream",
          "name": "stdout",
          "text": [
            "[0, 0, 1, 1, 1, 2, 2, 2, 2]\n",
            "[0, 0, 1, 1, 1, 2, 2, 2, 2]\n"
          ]
        }
      ],
      "source": [
        "# brute force\n",
        "def sort_colors(arr):\n",
        "    # hasing\n",
        "    ones = twos = zeros = 0\n",
        "    for num in arr:\n",
        "        if num == 0:\n",
        "            zeros += 1\n",
        "        elif num == 1:\n",
        "            ones += 1\n",
        "        else:\n",
        "            twos += 1\n",
        "\n",
        "    # fill zeros\n",
        "    for i in range(zeros):\n",
        "        arr[i] = 0\n",
        "    for i in range(zeros, zeros+ones):\n",
        "        arr[i] = 1\n",
        "    for i in range(zeros+ones, len(arr)):\n",
        "        arr[i] = 2\n",
        "arr = [1, 1, 2, 2, 0, 0, 2, 2, 1]\n",
        "sort_colors(arr)\n",
        "print(arr)\n",
        "\n",
        "\n",
        "\n",
        "# DNF\n",
        "def sort_colors_dnf(arr):\n",
        "    low = mid = 0\n",
        "    high = len(arr) - 1\n",
        "    while mid <= high:\n",
        "        if arr[mid] == 0:\n",
        "            arr[low], arr[mid] = arr[mid], arr[low]\n",
        "            low += 1\n",
        "            mid += 1\n",
        "        elif arr[mid] == 1:\n",
        "            mid += 1\n",
        "        elif arr[mid] == 2:\n",
        "            arr[mid], arr[high] = arr[high], arr[mid]\n",
        "            high -= 1\n",
        "\n",
        "arr = [1, 1, 2, 2, 0, 0, 2, 2, 1]\n",
        "sort_colors_dnf(arr)\n",
        "print(arr)"
      ]
    },
    {
      "cell_type": "markdown",
      "metadata": {
        "id": "v-qLR5O5J0it"
      },
      "source": [
        "## Couting Sort Algorithm"
      ]
    },
    {
      "cell_type": "code",
      "execution_count": 47,
      "metadata": {
        "colab": {
          "base_uri": "https://localhost:8080/"
        },
        "id": "mfPEtRTwTNnS",
        "outputId": "ee3319c0-3180-4269-b153-b423c601467c"
      },
      "outputs": [
        {
          "output_type": "stream",
          "name": "stdout",
          "text": [
            "Sorted Array in Ascending Order: \n",
            "[0, 0, 1, 1, 2, 2, 2]\n"
          ]
        }
      ],
      "source": [
        "'''\n",
        "countingSort(array, size)\n",
        "  max <- find largest element in array\n",
        "  initialize count array with all zeros\n",
        "  for j <- 0 to size\n",
        "    find the total count of each unique element and\n",
        "    store the count at jth index in count array\n",
        "  for i <- 1 to max\n",
        "    find the cumulative sum and store it in count array itself\n",
        "  for j <- size down to 1\n",
        "    restore the elements to array\n",
        "    decrease count of each element restored by 1\n",
        "'''\n",
        "\n",
        "\n",
        "# Counting sort in Python programming\n",
        "\n",
        "\n",
        "def countingSort(array):\n",
        "    size = len(array)\n",
        "    output = [0] * size\n",
        "\n",
        "    # Initialize count array\n",
        "    count = [0] * 10\n",
        "\n",
        "    # Store the count of each elements in count array\n",
        "    for i in range(0, size):\n",
        "        count[array[i]] += 1\n",
        "\n",
        "    # Store the cummulative count\n",
        "    for i in range(1, 10):\n",
        "        count[i] += count[i - 1]\n",
        "\n",
        "    # Find the index of each element of the original array in count array\n",
        "    # place the elements in output array\n",
        "    i = size - 1\n",
        "    while i >= 0:\n",
        "        output[count[array[i]] - 1] = array[i]\n",
        "        count[array[i]] -= 1\n",
        "        i -= 1\n",
        "\n",
        "    # Copy the sorted elements into original array\n",
        "    for i in range(0, size):\n",
        "        array[i] = output[i]\n",
        "\n",
        "\n",
        "data = [1, 2, 2, 2, 0, 0, 1]\n",
        "countingSort(data)\n",
        "print(\"Sorted Array in Ascending Order: \")\n",
        "print(data)"
      ]
    },
    {
      "cell_type": "markdown",
      "metadata": {
        "id": "FwsOFzluEKgl"
      },
      "source": [
        "## Majority Element"
      ]
    },
    {
      "cell_type": "code",
      "execution_count": 48,
      "metadata": {
        "id": "0SvhQcVXEQKb"
      },
      "outputs": [],
      "source": [
        "# given an array and you have to return an element which occurs more then half of the lengh of the array\n",
        "# Brute force approach\n",
        "def majority_element(arr):\n",
        "    n = len(arr)\n",
        "    for i in range(n):\n",
        "        count = 0\n",
        "        for j in range(i, n):\n",
        "            if arr[i] == arr[j]:\n",
        "                count+=1\n",
        "            if count > n//2:\n",
        "                return arr[i]\n",
        "\n",
        "# using map data structure\n",
        "def majority_element_map(arr):\n",
        "    hashMap = {}\n",
        "    for i in arr:\n",
        "        hashMap[i] = 1 + hashMap.get(i, 0)\n",
        "        if hashMap[i] > len(arr) // 2:\n",
        "            return i\n",
        "\n",
        "\n",
        "\n",
        "# Optimal solution (Moore's voting algorithm)\n",
        "'''\n",
        "1. Apply Moore's voting algo\n",
        "2. Verify if the element you got is majority or not\n",
        "'''\n",
        "def mooresVoting(arr):\n",
        "    count = 0\n",
        "    ele = -1\n",
        "    for i in range(len(arr)):\n",
        "        if count == 0:\n",
        "            count = 1\n",
        "            ele = arr[i]\n",
        "        elif arr[i] == ele:\n",
        "            count += 1\n",
        "        else:\n",
        "            count -= 1\n",
        "    return ele\n",
        "\n",
        "\n",
        "\n"
      ]
    },
    {
      "cell_type": "markdown",
      "source": [
        "## Rearrange Elements by sign\n",
        "\n",
        "- We have given an array having half positive and half negative elements and your task is to arrange them in alternative order (+, -, +, -..)\n"
      ],
      "metadata": {
        "id": "TKcJHe1q6XIG"
      }
    },
    {
      "cell_type": "code",
      "source": [
        "# brute force (Do it yourself)\n",
        "'''\n",
        "1. Take two list for positive and negative\n",
        "2. store them accordingly\n",
        "3. Now store the positive in even indices and negative in odd indices\n",
        "'''\n",
        "\n",
        "# optimal solution\n",
        "\n",
        "def rearrangingAlternatively(arr):\n",
        "    n = len(arr)\n",
        "    ans = [0] * n\n",
        "    pos = 0\n",
        "    neg = 1\n",
        "    for el in arr:\n",
        "        if el > 0:\n",
        "            arr[pos] = el\n",
        "            pos += 2\n",
        "        else:\n",
        "            arr[neg] = el\n",
        "            neg += 2\n",
        "    for i, el in enumerate(ans):\n",
        "        arr[i] = el\n",
        "    return arr\n"
      ],
      "metadata": {
        "id": "6raRYvFjyq5m"
      },
      "execution_count": 49,
      "outputs": []
    },
    {
      "cell_type": "markdown",
      "source": [
        "## Rearranging Elements By Sign - II\n",
        "- We have given an array having both negative and positive numbers and you have to arrange them in alternatively\n",
        "* There are two cases\n",
        "    1. Positives > Negatives\n",
        "    2. Negatives > Positives"
      ],
      "metadata": {
        "id": "YhcsLXJ70pUW"
      }
    },
    {
      "cell_type": "code",
      "source": [
        "def arrangeAlternatively(arr):\n",
        "    pos = []\n",
        "    neg = []\n",
        "    n = len(arr)\n",
        "    for i in range(n):\n",
        "        if arr[i] > 0:\n",
        "            pos.append(arr[i])\n",
        "        else:\n",
        "            neg.append(arr[i])\n",
        "\n",
        "    if len(pos) > len(neg):\n",
        "        for i in range(len(neg)):\n",
        "            arr[2*i] = pos[i]\n",
        "            arr[2*i+1] = neg[i]\n",
        "\n",
        "        index = len(neg) * 2\n",
        "        for i in range(len(neg), len(pos)):\n",
        "            arr[index] = pos[i]\n",
        "            index += 1\n",
        "\n",
        "    else:\n",
        "        for i in range(len(pos)):\n",
        "            arr[2*i] = pos[i]\n",
        "            arr[2*i+1] = neg[i]\n",
        "\n",
        "        index = len(pos) * 2\n",
        "        for i in range(len(pos), len(neg)):\n",
        "            arr[index] = neg[i]\n",
        "            index += 1\n",
        "\n",
        "arr = [-1, -2, 4, -5, 6, -7]\n",
        "arrangeAlternatively(arr)\n",
        "print(arr)"
      ],
      "metadata": {
        "colab": {
          "base_uri": "https://localhost:8080/"
        },
        "id": "1jM53FRE0-_x",
        "outputId": "106e3974-f62e-4c27-9a7d-e5b9c42b6362"
      },
      "execution_count": 2,
      "outputs": [
        {
          "output_type": "stream",
          "name": "stdout",
          "text": [
            "[4, -1, 6, -2, -5, -7]\n"
          ]
        }
      ]
    },
    {
      "cell_type": "markdown",
      "source": [
        "## Next Permutation\n",
        "- we given an array and we need to get the next permutation\n",
        "* What is permutation ( The re-arrangement of numbers )\n",
        "    - Ex :\n",
        "        arr = `[3, 2, 1]` and it's permutations will be <br/>\n",
        "        `1 2 3`  `1 3 2`  `2 1 3` `2 3 1` `3 1 2` `3 2 1` <br/>\n",
        "        and for [3 1 2] the next permutation will be [3 2 1]\n"
      ],
      "metadata": {
        "id": "4g7It9nZ5CtZ"
      }
    },
    {
      "cell_type": "code",
      "source": [
        "# Brute Force solution\n",
        "'''\n",
        "1. Generate all permutations\n",
        "2.\n",
        "'''"
      ],
      "metadata": {
        "id": "B_FxX0Z37F6v"
      },
      "execution_count": null,
      "outputs": []
    },
    {
      "cell_type": "markdown",
      "source": [
        "# Binary Search Problems"
      ],
      "metadata": {
        "id": "SjW1tl2rz5N-"
      }
    },
    {
      "cell_type": "markdown",
      "source": [
        "## Basic Binary search algorithm"
      ],
      "metadata": {
        "id": "yHVeAPQIz_ok"
      }
    },
    {
      "cell_type": "code",
      "source": [],
      "metadata": {
        "id": "M1cSZW8Sz8bh"
      },
      "execution_count": null,
      "outputs": []
    }
  ],
  "metadata": {
    "colab": {
      "provenance": [],
      "collapsed_sections": [
        "jgXuK3IDQZO6",
        "v-qLR5O5J0it",
        "FwsOFzluEKgl",
        "SjW1tl2rz5N-",
        "yHVeAPQIz_ok"
      ],
      "authorship_tag": "ABX9TyMJcUjQe9D+nD7sMG038gab",
      "include_colab_link": true
    },
    "kernelspec": {
      "display_name": "Python 3",
      "name": "python3"
    },
    "language_info": {
      "name": "python"
    }
  },
  "nbformat": 4,
  "nbformat_minor": 0
}